{
 "cells": [
  {
   "cell_type": "code",
   "execution_count": 44,
   "metadata": {},
   "outputs": [],
   "source": [
    "from sklearn import svm, preprocessing\n",
    "#from statsmodels.api import datasets\n",
    "from sklearn import datasets ## Get dataset from sklearn\n",
    "import sklearn.model_selection as ms\n",
    "import sklearn.metrics as sklm\n",
    "import matplotlib.pyplot as plt\n",
    "import pandas as pd\n",
    "import numpy as np\n",
    "import numpy.random as nr\n",
    "\n",
    "%matplotlib inline"
   ]
  },
  {
   "cell_type": "code",
   "execution_count": 45,
   "metadata": {
    "scrolled": true
   },
   "outputs": [
    {
     "name": "stdout",
     "output_type": "stream",
     "text": [
      "(1000, 12)\n"
     ]
    },
    {
     "data": {
      "text/html": [
       "<div>\n",
       "<style scoped>\n",
       "    .dataframe tbody tr th:only-of-type {\n",
       "        vertical-align: middle;\n",
       "    }\n",
       "\n",
       "    .dataframe tbody tr th {\n",
       "        vertical-align: top;\n",
       "    }\n",
       "\n",
       "    .dataframe thead th {\n",
       "        text-align: right;\n",
       "    }\n",
       "</style>\n",
       "<table border=\"1\" class=\"dataframe\">\n",
       "  <thead>\n",
       "    <tr style=\"text-align: right;\">\n",
       "      <th></th>\n",
       "      <th>Unnamed: 0</th>\n",
       "      <th>user</th>\n",
       "      <th>location</th>\n",
       "      <th>Tweets</th>\n",
       "      <th>Subjectivity</th>\n",
       "      <th>Polarity</th>\n",
       "      <th>Positive</th>\n",
       "      <th>Negative</th>\n",
       "      <th>Neutral</th>\n",
       "      <th>compound</th>\n",
       "      <th>TextBlobAnalysis</th>\n",
       "      <th>VADERAnalysis</th>\n",
       "    </tr>\n",
       "  </thead>\n",
       "  <tbody>\n",
       "    <tr>\n",
       "      <td>0</td>\n",
       "      <td>0</td>\n",
       "      <td>__E_H__</td>\n",
       "      <td>NaN</td>\n",
       "      <td>I switched to my dirty reddit account to look ...</td>\n",
       "      <td>0.800000</td>\n",
       "      <td>-0.6</td>\n",
       "      <td>0.099</td>\n",
       "      <td>0.229</td>\n",
       "      <td>0.672</td>\n",
       "      <td>-0.5106</td>\n",
       "      <td>Negative</td>\n",
       "      <td>Negative</td>\n",
       "    </tr>\n",
       "    <tr>\n",
       "      <td>1</td>\n",
       "      <td>1</td>\n",
       "      <td>kirathecoolest</td>\n",
       "      <td>NaN</td>\n",
       "      <td>i wonder if i have corona or just a really bad...</td>\n",
       "      <td>0.666667</td>\n",
       "      <td>-0.7</td>\n",
       "      <td>0.000</td>\n",
       "      <td>0.322</td>\n",
       "      <td>0.678</td>\n",
       "      <td>-0.5849</td>\n",
       "      <td>Negative</td>\n",
       "      <td>Negative</td>\n",
       "    </tr>\n",
       "    <tr>\n",
       "      <td>2</td>\n",
       "      <td>2</td>\n",
       "      <td>spunkeryy</td>\n",
       "      <td>Guadalajara, Jalisco</td>\n",
       "      <td>Hopefully you do get the Corona virus</td>\n",
       "      <td>0.000000</td>\n",
       "      <td>0.0</td>\n",
       "      <td>0.310</td>\n",
       "      <td>0.000</td>\n",
       "      <td>0.690</td>\n",
       "      <td>0.4019</td>\n",
       "      <td>Neutral</td>\n",
       "      <td>Positive</td>\n",
       "    </tr>\n",
       "    <tr>\n",
       "      <td>3</td>\n",
       "      <td>3</td>\n",
       "      <td>HuseinTunde</td>\n",
       "      <td>NaN</td>\n",
       "      <td>Stopping people from gathering under this cir...</td>\n",
       "      <td>0.000000</td>\n",
       "      <td>0.0</td>\n",
       "      <td>0.000</td>\n",
       "      <td>0.110</td>\n",
       "      <td>0.890</td>\n",
       "      <td>-0.1531</td>\n",
       "      <td>Neutral</td>\n",
       "      <td>Negative</td>\n",
       "    </tr>\n",
       "    <tr>\n",
       "      <td>4</td>\n",
       "      <td>4</td>\n",
       "      <td>NkyEzenwa</td>\n",
       "      <td>Nigeria</td>\n",
       "      <td>165 Ok dear after Corona season</td>\n",
       "      <td>0.500000</td>\n",
       "      <td>0.5</td>\n",
       "      <td>0.545</td>\n",
       "      <td>0.000</td>\n",
       "      <td>0.455</td>\n",
       "      <td>0.5859</td>\n",
       "      <td>Positive</td>\n",
       "      <td>Positive</td>\n",
       "    </tr>\n",
       "  </tbody>\n",
       "</table>\n",
       "</div>"
      ],
      "text/plain": [
       "   Unnamed: 0            user              location  \\\n",
       "0           0         __E_H__                   NaN   \n",
       "1           1  kirathecoolest                   NaN   \n",
       "2           2       spunkeryy  Guadalajara, Jalisco   \n",
       "3           3     HuseinTunde                   NaN   \n",
       "4           4       NkyEzenwa               Nigeria   \n",
       "\n",
       "                                              Tweets  Subjectivity  Polarity  \\\n",
       "0  I switched to my dirty reddit account to look ...      0.800000      -0.6   \n",
       "1  i wonder if i have corona or just a really bad...      0.666667      -0.7   \n",
       "2             Hopefully you do get the Corona virus       0.000000       0.0   \n",
       "3   Stopping people from gathering under this cir...      0.000000       0.0   \n",
       "4                   165 Ok dear after Corona season       0.500000       0.5   \n",
       "\n",
       "   Positive  Negative  Neutral  compound TextBlobAnalysis VADERAnalysis  \n",
       "0     0.099     0.229    0.672   -0.5106         Negative      Negative  \n",
       "1     0.000     0.322    0.678   -0.5849         Negative      Negative  \n",
       "2     0.310     0.000    0.690    0.4019          Neutral      Positive  \n",
       "3     0.000     0.110    0.890   -0.1531          Neutral      Negative  \n",
       "4     0.545     0.000    0.455    0.5859         Positive      Positive  "
      ]
     },
     "execution_count": 45,
     "metadata": {},
     "output_type": "execute_result"
    }
   ],
   "source": [
    "\n",
    "            \n",
    "## Import the dataset from sklearn.datasets\n",
    "tweets_data = pd.read_csv(R'E:\\SEM-2\\Data Mining Applications\\twitterMining.csv')\n",
    "print(tweets_data.shape)\n",
    "tweets_data.head()\n",
    "\n",
    "  "
   ]
  },
  {
   "cell_type": "code",
   "execution_count": 46,
   "metadata": {},
   "outputs": [
    {
     "name": "stdout",
     "output_type": "stream",
     "text": [
      "                  Tweets\n",
      "TextBlobAnalysis        \n",
      "Negative             211\n",
      "Neutral              456\n",
      "Positive             333\n"
     ]
    }
   ],
   "source": [
    "tweets_type_counts = Mining_Data[['Tweets', 'TextBlobAnalysis']].groupby('TextBlobAnalysis').count()\n",
    "print(tweets_type_counts)"
   ]
  },
  {
   "cell_type": "code",
   "execution_count": 47,
   "metadata": {},
   "outputs": [],
   "source": [
    "labels = np.array(Mining_Data['TextBlobAnalysis'])"
   ]
  },
  {
   "cell_type": "code",
   "execution_count": 48,
   "metadata": {},
   "outputs": [],
   "source": [
    "Features = np.array(tweets_data[['Subjectivity', 'Polarity']])\n",
    "\n",
    "levels = {'Negative':0, 'Neutral':1, 'Positive':2}\n",
    "Labels =  np.array([levels[x] for x in tweets_data['TextBlobAnalysis']])"
   ]
  },
  {
   "cell_type": "code",
   "execution_count": 34,
   "metadata": {},
   "outputs": [
    {
     "name": "stdout",
     "output_type": "stream",
     "text": [
      "[0 0 1 1 2 1 0 0 1 0 0 1 1 1 0 2 1 2 1 1 1 0 0 1 0 0 1 1 2 1 1 1 0 2 1 2 0\n",
      " 2 1 1 1 2 2 0 0 1 1 1 0 1 1 2 1 2 1 2 1 1 2 2 1 1 2 0 1 1 2 0 1 0 1 1 2 2\n",
      " 0 0 0 2 0 1 2 0 1 0 1 1 2 1 1 2 0 1 2 2 2 1 2 1 1 2 1 0 2 2 2 1 2 1 2 1 1\n",
      " 0 1 0 0 1 2 1 0 1 2 2 1 1 1 0 2 0 1 1 1 0 1 2 2 0 0 1 2 1 1 2 0 1 1 1 1 1\n",
      " 2 1 1 0 2 1 2 2 1 1 1 0 2 2 2 0 2 0 2 0 1 2 2 1 2 2 0 2 2 2 1 1 2 0 1 1 0\n",
      " 2 0 0 1 1 1 0 1 1 1 2 1 1 0 0 0 2 2 1 1 0 1 0 2 2 2 2 1 1 2 2 1 2 2 1 1 1\n",
      " 2 1 1 1 2 0 2 2 0 0 1 2 2 1 1 1 1 2 1 1 1 1 2 0 2 1 2 0 2 2 1 1 0 0 1 1 2\n",
      " 1 1 2 2 1 1 1 1 2 2 1 0 1 1 1 2 0 1 1 2 1 1 1 1 1 2 2 1 2 2 2 0 0 1 1 2 1\n",
      " 1 1 1 1 1 0 1 1 1 1 1 2 0 2 2 1 2 1 0 0 1 1 2 0 1 1 2 1 0 1 1 1 1 2 1 0 2\n",
      " 2 2 2 2 1 1 0 1 0 1 2 0 2 2 2 2 2 1 0 1 1 1 1 1 2 2 1 1 1 1 0 1 0 2 0 1 1\n",
      " 0 2 1 2 2 0 2 1 2 0 0 2 1 1 2 1 0 1 1 0 1 2 1 1 2 1 0 0 0 1 1 2 1 0 2 2 0\n",
      " 2 2 2 0 2 2 0 0 1 2 2 1 2 2 0 2 1 2 1 0 1 1 1 1 1 2 1 2 1 1 0 0 1 2 2 1 1\n",
      " 2 2 2 1 1 2 1 1 1 2 1 0 0 0 2 1 1 0 2 2 2 1 1 1 0 1 0 1 0 2 0 1 0 2 2 0 2\n",
      " 2 1 0 1 1 2 1 1 2 0 2 0 0 0 1 0 2 2 0 1 2 1 1 2 1 2 1 2 0 2 2 0 0 2 1 1 0\n",
      " 2 1 1 1 0 1 1 1 2 1 0 2 0 0 1 1 2 2 0 1 1 2 0 1 2 2 0 2 2 1 1 2 1 2 1 1 1\n",
      " 1 2 2 2 1 1 1 2 0 1 1 1 1 1 2 2 0 2 2 0 1 0 2 2 2 1 1 1 2 0 0 2 1 1 1 1 1\n",
      " 2 2 2 1 1 2 2 1 1 1 2 2 0 1 1 0 1 1 1 2 1 1 1 1 0 2 0 0 0 2 1 1 1 1 1 0 1\n",
      " 1 1 2 2 1 1 2 0 0 1 0 1 1 0 0 2 2 0 2 1 1 0 2 1 1 1 2 1 2 2 1 2 2 2 2 2 2\n",
      " 1 2 2 1 0 2 1 2 1 1 2 2 0 1 0 1 2 1 1 1 2 1 2 1 2 1 2 1 0 2 2 0 1 1 1 2 1\n",
      " 0 0 0 0 0 1 0 1 0 2 2 1 0 2 0 1 2 1 2 2 1 1 0 1 1 2 0 0 1 1 0 1 0 0 1 0 2\n",
      " 0 1 2 1 2 0 0 2 2 1 1 0 1 0 1 2 2 2 1 2 1 1 2 2 0 0 1 1 2 2 2 1 1 1 1 2 2\n",
      " 2 1 1 1 1 1 1 0 2 1 1 1 0 1 2 0 1 2 0 1 2 1 1 1 0 2 2 0 2 2 0 0 1 1 2 1 1\n",
      " 2 2 1 0 2 1 2 1 1 1 1 1 2 2 2 2 2 1 2 1 1 0 0 1 0 1 1 1 1 1 1 0 1 2 1 2 0\n",
      " 2 2 2 1 2 1 2 1 1 1 1 1 1 1 0 0 0 1 0 2 1 2 2 0 2 1 0 1 1 0 1 1 1 2 2 2 1\n",
      " 0 1 1 1 1 2 1 1 1 0 1 1 2 1 1 0 0 1 1 1 0 2 1 1 2 1 2 2 2 2 0 2 2 1 1 1 2\n",
      " 1 2 2 0 0 2 2 2 1 0 0 2 2 2 0 1 2 2 2 1 2 1 1 1 2 0 1 2 1 0 0 0 1 1 2 2 0\n",
      " 1 2 2 2 1 1 1 2 1 1 1 1 1 2 1 1 2 2 2 0 2 1 2 1 1 1 2 1 2 1 1 0 2 2 1 1 2\n",
      " 2]\n"
     ]
    }
   ],
   "source": [
    "print(Labels)"
   ]
  },
  {
   "cell_type": "code",
   "execution_count": 49,
   "metadata": {},
   "outputs": [],
   "source": [
    "nr.seed(1115)\n",
    "indx = range(Features.shape[0])\n",
    "indx = ms.train_test_split(indx, test_size = 300)\n",
    "X_train = Features[indx[0],:]\n",
    "y_train = np.ravel(Labels[indx[0]])\n",
    "X_test = Features[indx[1],:]\n",
    "y_test = np.ravel(Labels[indx[1]])"
   ]
  },
  {
   "cell_type": "code",
   "execution_count": 50,
   "metadata": {},
   "outputs": [],
   "source": [
    "scale = preprocessing.StandardScaler()\n",
    "scale.fit(X_train)\n",
    "X_train = scale.transform(X_train)"
   ]
  },
  {
   "cell_type": "code",
   "execution_count": 51,
   "metadata": {},
   "outputs": [
    {
     "data": {
      "text/plain": [
       "LinearSVC(C=1.0, class_weight=None, dual=True, fit_intercept=True,\n",
       "          intercept_scaling=1, loss='squared_hinge', max_iter=1000,\n",
       "          multi_class='ovr', penalty='l2', random_state=None, tol=0.0001,\n",
       "          verbose=0)"
      ]
     },
     "execution_count": 51,
     "metadata": {},
     "output_type": "execute_result"
    }
   ],
   "source": [
    "nr.seed(1115)\n",
    "svm_mod = svm.LinearSVC()\n",
    "svm_mod.fit(X_train, y_train)"
   ]
  },
  {
   "cell_type": "code",
   "execution_count": 52,
   "metadata": {},
   "outputs": [],
   "source": [
    "X_test = scale.transform(X_test)\n",
    "scores = svm_mod.predict(X_test)"
   ]
  },
  {
   "cell_type": "code",
   "execution_count": 37,
   "metadata": {},
   "outputs": [
    {
     "name": "stdout",
     "output_type": "stream",
     "text": [
      "                 Confusion matrix\n",
      "                 Score Negative   Score Neutral    Score Positive\n",
      "Actual Negative          67                2                 0\n",
      "Actual Neutral            2              124                 5\n",
      "Actual Positive           0                0               100\n",
      "\n",
      "Accuracy        0.97\n",
      " \n",
      "          Negative  Neutral  Positive\n",
      "Num case   69.00     131.00      100.00\n",
      "Precision   0.97      0.98       0.95\n",
      "Recall      0.97      0.95       1.00\n",
      "F1          0.97      0.96       0.98\n"
     ]
    }
   ],
   "source": [
    "def print_metrics_3(labels, scores):\n",
    "   \n",
    "    conf = sklm.confusion_matrix(labels, scores)\n",
    "    print('                 Confusion matrix')\n",
    "    print('                 Score Negative   Score Neutral    Score Positive')\n",
    "    print('Actual Negative      %6d' % conf[0,0] + '            %5d' % conf[0,1] + '             %5d' % conf[0,2])\n",
    "    print('Actual Neutral       %6d' % conf[1,0] + '            %5d' % conf[1,1] + '             %5d' % conf[1,2])\n",
    "    print('Actual Positive      %6d' % conf[2,0] + '            %5d' % conf[2,1] + '             %5d' % conf[2,2])\n",
    "    ## Now compute and display the accuracy and metrics\n",
    "    print('')\n",
    "    print('Accuracy        %0.2f' % sklm.accuracy_score(labels, scores))\n",
    "    metrics = sklm.precision_recall_fscore_support(labels, scores)\n",
    "    print(' ')\n",
    "    print('          Negative  Neutral  Positive')\n",
    "    print('Num case   %0.2f' % metrics[3][0] + '     %0.2f' % metrics[3][1] + '      %0.2f' % metrics[3][2])\n",
    "    print('Precision   %0.2f' % metrics[0][0] + '      %0.2f' % metrics[0][1] + '       %0.2f' % metrics[0][2])\n",
    "    print('Recall      %0.2f' % metrics[1][0] + '      %0.2f' % metrics[1][1] + '       %0.2f' % metrics[1][2])\n",
    "    print('F1          %0.2f' % metrics[2][0] + '      %0.2f' % metrics[2][1] + '       %0.2f' % metrics[2][2])\n",
    "    \n",
    "print_metrics_3(y_test, scores)  "
   ]
  },
  {
   "cell_type": "code",
   "execution_count": 55,
   "metadata": {},
   "outputs": [
    {
     "data": {
      "image/png": "[encoded data removed]",
      "text/plain": [
       "<Figure size 576x576 with 4 Axes>"
      ]
     },
     "metadata": {
      "needs_background": "light"
     },
     "output_type": "display_data"
    }
   ],
   "source": [
    "def plot_iris_score(tweets_data, y_test, scores):\n",
    "    '''Function to plot iris data by type'''\n",
    "    ## Find correctly and incorrectly classified cases\n",
    "    true = np.equal(scores, y_test).astype(int)\n",
    "    \n",
    "    ## Create data frame from the test data\n",
    "    tweetsdata = pd.DataFrame(tweets_data)\n",
    "    levels = {0:'Negative', 1:'Neutral', 2:'Positive'}\n",
    "    tweetsdata['TextBlobAnalysis'] = [levels[x] for x in y_test]\n",
    "    tweetsdata.columns = ['Subjectivity', 'Polarity','TextBlobAnalysis']\n",
    "    \n",
    "    ## Set up for the plot\n",
    "    fig, ax = plt.subplots(2, 2, figsize=(8,8))\n",
    "    markers = ['o', '+']\n",
    "    x_ax = ['Subjectivity', 'Polarity']\n",
    "    y_ax = ['Polarity','Subjectivity']\n",
    "    \n",
    "    for t in range(2): # loop over correct and incorect classifications\n",
    "        negative = tweetsdata[(tweetsdata['TextBlobAnalysis'] == 'Negative') & (true == t)]\n",
    "        neutral = tweetsdata[(tweetsdata['TextBlobAnalysis'] == 'Neutral') & (true == t)]\n",
    "        positive = tweetsdata[(tweetsdata['TextBlobAnalysis'] == 'Positive') & (true == t)]\n",
    "        # loop over all the dimensions\n",
    "        for i in range(2):\n",
    "            for j in range(2):\n",
    "                ax[i,j].scatter(negative[x_ax[i]], negative[y_ax[j]], marker = markers[t], color = 'blue')\n",
    "                ax[i,j].scatter(neutral[x_ax[i]], neutral[y_ax[j]], marker = markers[t], color = 'orange')\n",
    "                ax[i,j].scatter(positive[x_ax[i]], positive[y_ax[j]], marker = markers[t], color = 'green')\n",
    "                ax[i,j].set_xlabel(x_ax[i])\n",
    "                ax[i,j].set_ylabel(y_ax[j])\n",
    "\n",
    "plot_iris_score(X_test, y_test, scores)"
   ]
  },
  {
   "cell_type": "code",
   "execution_count": 56,
   "metadata": {},
   "outputs": [
    {
     "name": "stdout",
     "output_type": "stream",
     "text": [
      "                 Confusion matrix\n",
      "                 Score Negative   Score Neutral    Score Positive\n",
      "Actual Negative          67                2                 0\n",
      "Actual Neutral            0              126                 5\n",
      "Actual Positive           0                0               100\n",
      "\n",
      "Accuracy        0.98\n",
      " \n",
      "          Negative  Neutral  Positive\n",
      "Num case   69.00     131.00      100.00\n",
      "Precision   1.00      0.98       0.95\n",
      "Recall      0.97      0.96       1.00\n",
      "F1          0.99      0.97       0.98\n"
     ]
    },
    {
     "data": {
      "image/png": "[encoded data removed]",
      "text/plain": [
       "<Figure size 576x576 with 4 Axes>"
      ]
     },
     "metadata": {
      "needs_background": "light"
     },
     "output_type": "display_data"
    }
   ],
   "source": [
    "nr.seed(1115)\n",
    "svc_mod = svm.SVC()\n",
    "svc_mod.fit(X_train, y_train)\n",
    "scores = svm_mod.predict(X_test)\n",
    "print_metrics_3(y_test, scores) \n",
    "plot_iris_score(X_test, y_test, scores)"
   ]
  },
  {
   "cell_type": "code",
   "execution_count": 57,
   "metadata": {},
   "outputs": [
    {
     "name": "stdout",
     "output_type": "stream",
     "text": [
      "                  Tweets\n",
      "TextBlobAnalysis        \n",
      "Negative             211\n",
      "Neutral              456\n",
      "Positive             333\n"
     ]
    }
   ],
   "source": [
    "tweets_type_counts = Mining_Data[['Tweets', 'TextBlobAnalysis']].groupby('TextBlobAnalysis').count()\n",
    "print(tweets_type_counts)"
   ]
  },
  {
   "cell_type": "code",
   "execution_count": 26,
   "metadata": {},
   "outputs": [],
   "source": [
    "labels = np.array(Mining_Data['TextBlobAnalysis'])"
   ]
  },
  {
   "cell_type": "code",
   "execution_count": 27,
   "metadata": {},
   "outputs": [],
   "source": [
    "Features = np.array(tweets_data[['Subjectivity', 'Polarity', 'compound', 'Positive','Negative','Neutral']])\n",
    "\n",
    "levels = {'Negative':0, 'Neutral':1, 'Positive':2}\n",
    "Labels =  np.array([levels[x] for x in tweets_data['TextBlobAnalysis']])"
   ]
  },
  {
   "cell_type": "code",
   "execution_count": 30,
   "metadata": {},
   "outputs": [],
   "source": [
    "def encode_string(cat_features):\n",
    "    ## First encode the strings to numeric categories\n",
    "    enc = preprocessing.LabelEncoder()\n",
    "    enc.fit(cat_features)\n",
    "    enc_cat_features = enc.transform(cat_features)\n",
    "    ## Now, apply one hot encoding\n",
    "    ohe = preprocessing.OneHotEncoder()\n",
    "    encoded = ohe.fit(enc_cat_features.reshape(-1,1))\n",
    "    return encoded.transform(enc_cat_features.reshape(-1,1)).toarray()\n",
    "\n",
    "columns = ['Subjectivity', 'Polarity', 'compound', 'Positive','Negative','Neutral']\n",
    "\n",
    "Features = encode_string(tweets_data['checking_account_status'])\n",
    "for col in categorical_columns:\n",
    "    temp = encode_string(credit[col])\n",
    "    Features = np.concatenate([Features, temp], axis = 1)\n",
    "\n",
    "print(Features.shape)\n",
    "print(Features[:2, :])  "
   ]
  },
  {
   "cell_type": "code",
   "execution_count": null,
   "metadata": {},
   "outputs": [],
   "source": []
  },
  {
   "cell_type": "code",
   "execution_count": null,
   "metadata": {},
   "outputs": [],
   "source": []
  }
 ],
 "metadata": {
  "kernelspec": {
   "display_name": "Python 3",
   "language": "python",
   "name": "python3"
  },
  "language_info": {
   "codemirror_mode": {
    "name": "ipython",
    "version": 3
   },
   "file_extension": ".py",
   "mimetype": "text/x-python",
   "name": "python",
   "nbconvert_exporter": "python",
   "pygments_lexer": "ipython3",
   "version": "3.8.2"
  }
 },
 "nbformat": 4,
 "nbformat_minor": 2
}
